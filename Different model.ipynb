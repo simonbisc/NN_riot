{
 "cells": [
  {
   "cell_type": "markdown",
   "id": "aee3f90f-429a-4238-977b-c6ae47d1eda2",
   "metadata": {},
   "source": [
    "# test_4_new"
   ]
  },
  {
   "cell_type": "code",
   "execution_count": null,
   "id": "e32047b9-6d6c-42ff-9722-a188a78031a3",
   "metadata": {},
   "outputs": [],
   "source": [
    "# First LSTM layer with more units\n",
    "    model = Sequential()\n",
    "    model.add(LSTM(\n",
    "        units=hp.Int('lstm_units_1', min_value=64, max_value=256, step=32),\n",
    "        return_sequences=True,\n",
    "        input_shape=(X_train.shape[1], X_train.shape[2])\n",
    "    ))\n",
    "    model.add(Dropout(hp.Float('dropout_1', min_value=0.2, max_value=0.5, step=0.1)))\n",
    "    model.add(BatchNormalization()) \n",
    "    \n",
    "    # Second LSTM layer with more complexity\n",
    "    model.add(LSTM(\n",
    "        units=hp.Int('lstm_units_2', min_value=64, max_value=256, step=32),\n",
    "        return_sequences=True  # Keeping return_sequences=True for adding another LSTM layer\n",
    "    ))\n",
    "    model.add(Dropout(hp.Float('dropout_2', min_value=0.2, max_value=0.5, step=0.1)))\n",
    "    \n",
    "    # Third LSTM layer (new layer added for more depth)\n",
    "    model.add(LSTM(\n",
    "        units=hp.Int('lstm_units_3', min_value=64, max_value=256, step=32),\n",
    "        return_sequences=False  # Final LSTM layer, not returning sequences\n",
    "    ))\n",
    "    model.add(Dropout(hp.Float('dropout_3', min_value=0.2, max_value=0.5, step=0.1)))\n",
    "    \n",
    "    model.add(Dense(\n",
    "        units=hp.Int('dense_units', min_value=64, max_value=256, step=32),\n",
    "        activation='relu'\n",
    "    ))\n",
    "    model.add(Dropout(0.3))  \n",
    "    model.add(Dense(1))"
   ]
  },
  {
   "cell_type": "markdown",
   "id": "0f9a1bfe-d836-4658-8496-3da9ae32b87b",
   "metadata": {},
   "source": [
    "# 1L"
   ]
  },
  {
   "cell_type": "code",
   "execution_count": 1,
   "id": "c27f57ac-c42e-4f7f-b597-75fbf2220aa3",
   "metadata": {},
   "outputs": [],
   "source": [
    "def build_model(hp):\n",
    "    # Lookback hyperparameter\n",
    "    lookback = hp.Int('lookback', min_value=5, max_value=20, step=1)\n",
    "\n",
    "    \n",
    "    model = Sequential()\n",
    "    model.add(LSTM(\n",
    "        units=hp.Int('lstm_units', min_value=64, max_value=256, step=32),\n",
    "        input_shape=(X_train.shape[1], X_train.shape[2])\n",
    "    ))\n",
    "    model.add(Dropout(hp.Float('dropout', min_value=0.2, max_value=0.5, step=0.1)))\n",
    "    model.add(Dense(\n",
    "        units=hp.Int('dense_units', min_value=64, max_value=256, step=32),\n",
    "        activation='relu'\n",
    "    ))\n",
    "    model.add(Dense(1))\n",
    "\n",
    "    model.compile(\n",
    "        optimizer=Adam(learning_rate=hp.Float('learning_rate', min_value=1e-5, max_value=1e-3, sampling='log')),\n",
    "        loss='mean_squared_error'\n",
    "    )\n",
    "\n",
    "    batch_size = hp.Int('batch_size', min_value=16, max_value=64, step=16)\n",
    "    \n",
    "    return model"
   ]
  },
  {
   "cell_type": "markdown",
   "id": "dcdc0610-e379-419e-bbfd-40a2232d713b",
   "metadata": {},
   "source": [
    "# 1LSTM2L"
   ]
  },
  {
   "cell_type": "code",
   "execution_count": 3,
   "id": "c05c4bc1-a7f0-4f70-94ba-9c25bb8c6dfe",
   "metadata": {},
   "outputs": [],
   "source": [
    "def build_model(hp):\n",
    "    lookback = hp.Int('lookback', min_value=5, max_value=20, step=1)\n",
    "\n",
    "    \n",
    "    model = Sequential()\n",
    "    model.add(LSTM(\n",
    "        units=hp.Int('lstm_units', min_value=64, max_value=256, step=32),  \n",
    "        input_shape=(X_train.shape[1], X_train.shape[2])\n",
    "    ))\n",
    "    model.add(Dropout(hp.Float('dropout', min_value=0.2, max_value=0.5, step=0.1)))\n",
    "\n",
    "    model.add(Dense(units=hp.Int('dense_units_1', min_value=32, max_value=128, step=32), activation='relu'))\n",
    "    model.add(Dense(units=hp.Int('dense_units_2', min_value=32, max_value=128, step=32), activation='relu'))\n",
    "\n",
    "    # Dense layer with fixed units\n",
    "    model.add(Dense(64, activation='relu'))\n",
    "\n",
    "    # Output layer\n",
    "    model.add(Dense(1))\n",
    "\n",
    "    model.compile(\n",
    "        optimizer=Adam(learning_rate=hp.Float('learning_rate', min_value=1e-5, max_value=1e-3, sampling='log')),\n",
    "        loss='mean_squared_error'\n",
    "    )\n",
    "    \n",
    "    batch_size = hp.Int('batch_size', min_value=16, max_value=64, step=16)\n",
    "    \n",
    "    return model"
   ]
  },
  {
   "cell_type": "code",
   "execution_count": null,
   "id": "b72733f8-fd93-4437-87d9-0b4a99b7ca19",
   "metadata": {},
   "outputs": [],
   "source": []
  },
  {
   "cell_type": "code",
   "execution_count": null,
   "id": "e1ac2748-0e70-46aa-936c-ef8ae5ff7060",
   "metadata": {},
   "outputs": [],
   "source": []
  },
  {
   "cell_type": "markdown",
   "id": "f49830f0-f654-43fb-b65f-f939d26f82ec",
   "metadata": {},
   "source": [
    "# 1L_128_garchwoptions_garch"
   ]
  },
  {
   "cell_type": "code",
   "execution_count": null,
   "id": "7ad18a1a-716f-48fa-8b23-5f0f50eb9949",
   "metadata": {},
   "outputs": [],
   "source": [
    " # LSTM layer with flexible number of units (search over a smaller range)\n",
    "    model.add(LSTM(\n",
    "        units=hp.Int('lstm_units', min_value=32, max_value=128, step=16),  # smaller range for LSTM units\n",
    "        input_shape=(X_train.shape[1], X_train.shape[2])\n",
    "    ))\n",
    "\n",
    "    model.add(Dropout(\n",
    "        hp.Float('dropout', min_value=0.2, max_value=0.4, step=0.05)  # smaller interval for dropout rate\n",
    "    ))\n",
    "\n",
    "    # Dense layer with flexible units\n",
    "    model.add(Dense(\n",
    "        units=hp.Int('dense_units', min_value=32, max_value=128, step=16),  # smaller range for Dense units\n",
    "        activation='relu'\n",
    "    ))\n",
    "\n",
    "    # Output layer (no change)\n",
    "    model.add(Dense(1))"
   ]
  },
  {
   "cell_type": "markdown",
   "id": "7b88e0ca-a536-4f28-b6f9-0ac070840dc0",
   "metadata": {},
   "source": [
    "# Fixed"
   ]
  },
  {
   "cell_type": "code",
   "execution_count": null,
   "id": "2309b15d-56c8-4940-9913-6ccfafa717e3",
   "metadata": {},
   "outputs": [],
   "source": [
    " model = Sequential()\n",
    "    model.add(LSTM(\n",
    "        units=50,  \n",
    "        input_shape=(X_train.shape[1], X_train.shape[2])\n",
    "    ))\n",
    "    model.add(Dropout(\n",
    "        hp.Float('dropout', min_value=0.2, max_value=0.4, step=0.05)  \n",
    "    ))\n",
    "    model.add(Dense(\n",
    "        units=50,  \n",
    "        activation='relu'\n",
    "    ))\n",
    "    model.add(Dense(1))"
   ]
  },
  {
   "cell_type": "markdown",
   "id": "3e278474-e17a-49b4-ad53-a8ef931559a5",
   "metadata": {},
   "source": [
    "# BIG4LSTM_garopt"
   ]
  },
  {
   "cell_type": "code",
   "execution_count": null,
   "id": "38d46790-7722-4a08-be46-bb660411fc39",
   "metadata": {},
   "outputs": [],
   "source": [
    "model = Sequential()\n",
    "    # LSTM Layer 1\n",
    "    model.add(LSTM(\n",
    "        units=hp.Int('lstm_units_1', min_value=64, max_value=256, step=32),\n",
    "        return_sequences=True,  # Retain sequences for stacking\n",
    "        activation='tanh',\n",
    "        recurrent_activation='sigmoid',\n",
    "        input_shape=(X_train.shape[1], X_train.shape[2])\n",
    "    ))\n",
    "    model.add(Dropout(hp.Float('dropout_1', min_value=0.1, max_value=0.5, step=0.1)))\n",
    "    model.add(BatchNormalization())  # Batch normalization for stability\n",
    "    \n",
    "    # LSTM Layer 2\n",
    "    model.add(LSTM(\n",
    "        units=hp.Int('lstm_units_2', min_value=64, max_value=256, step=32),\n",
    "        return_sequences=True,  # Retain sequences for stacking\n",
    "        activation='tanh',\n",
    "        recurrent_activation='sigmoid'\n",
    "    ))\n",
    "    model.add(Dropout(hp.Float('dropout_2', min_value=0.1, max_value=0.5, step=0.1)))\n",
    "    model.add(BatchNormalization())\n",
    "    \n",
    "    # LSTM Layer 3\n",
    "    model.add(LSTM(\n",
    "        units=hp.Int('lstm_units_3', min_value=64, max_value=256, step=32),\n",
    "        return_sequences=True,\n",
    "        activation='tanh',\n",
    "        recurrent_activation='sigmoid'\n",
    "    ))\n",
    "    model.add(Dropout(hp.Float('dropout_3', min_value=0.1, max_value=0.5, step=0.1)))\n",
    "    model.add(BatchNormalization())\n",
    "    \n",
    "    # LSTM Layer 4\n",
    "    model.add(LSTM(\n",
    "        units=hp.Int('lstm_units_4', min_value=64, max_value=256, step=32),\n",
    "        return_sequences=False,  # Final LSTM layer\n",
    "        activation='tanh',\n",
    "        recurrent_activation='sigmoid'\n",
    "    ))\n",
    "    model.add(Dropout(hp.Float('dropout_4', min_value=0.1, max_value=0.5, step=0.1)))\n",
    "    model.add(BatchNormalization())\n",
    "    \n",
    "    # Dense Layers for Feature Extraction\n",
    "    model.add(Dense(\n",
    "        units=hp.Int('dense_units_1', min_value=64, max_value=256, step=32),\n",
    "        activation='relu'\n",
    "    ))\n",
    "    model.add(Dropout(hp.Float('dropout_dense_1', min_value=0.1, max_value=0.5, step=0.1)))\n",
    "    model.add(Dense(\n",
    "        units=hp.Int('dense_units_2', min_value=32, max_value=128, step=32),\n",
    "        activation='relu'\n",
    "    ))\n",
    "    model.add(Dropout(hp.Float('dropout_dense_2', min_value=0.1, max_value=0.5, step=0.1)))\n",
    "    \n",
    "    # Output Layer\n",
    "    model.add(Dense(1))  # Single unit for regression task"
   ]
  },
  {
   "cell_type": "markdown",
   "id": "9dfbca7f-38b7-4c10-931d-443f36e375ba",
   "metadata": {},
   "source": [
    "# 1L_60_garchwoptions_2step"
   ]
  },
  {
   "cell_type": "code",
   "execution_count": 1,
   "id": "64866322-4cae-4bde-862c-d8e569e6d0ff",
   "metadata": {},
   "outputs": [
    {
     "ename": "IndentationError",
     "evalue": "unexpected indent (3530226626.py, line 2)",
     "output_type": "error",
     "traceback": [
      "\u001b[1;36m  Cell \u001b[1;32mIn[1], line 2\u001b[1;36m\u001b[0m\n\u001b[1;33m    model.add(LSTM(\u001b[0m\n\u001b[1;37m    ^\u001b[0m\n\u001b[1;31mIndentationError\u001b[0m\u001b[1;31m:\u001b[0m unexpected indent\n"
     ]
    }
   ],
   "source": [
    "model = Sequential()\n",
    "    model.add(LSTM(\n",
    "        units=hp.Int('lstm_units', min_value=32, max_value=60, step=2), \n",
    "        input_shape=(X_train.shape[1], X_train.shape[2])\n",
    "    ))\n",
    "    model.add(Dropout(\n",
    "        hp.Float('dropout', min_value=0.2, max_value=0.4, step=0.05)  \n",
    "    ))\n",
    "    model.add(Dense(\n",
    "        units=hp.Int('dense_units', min_value=32, max_value=60, step=2), \n",
    "        activation='relu'\n",
    "    ))\n",
    "    model.add(Dense(1))"
   ]
  },
  {
   "cell_type": "markdown",
   "id": "2bedc2c0-b471-4bb6-ad9a-a7a72050bee2",
   "metadata": {},
   "source": [
    "# 1L_60_garchwoptions_1step"
   ]
  },
  {
   "cell_type": "code",
   "execution_count": null,
   "id": "b791d340-2999-487b-b00e-674209fea518",
   "metadata": {},
   "outputs": [],
   "source": [
    "model = Sequential()\n",
    "    model.add(LSTM(\n",
    "        units=hp.Int('lstm_units', min_value=32, max_value=60, step=1), \n",
    "        input_shape=(X_train.shape[1], X_train.shape[2])\n",
    "    ))\n",
    "    model.add(Dropout(\n",
    "        hp.Float('dropout', min_value=0.2, max_value=0.4, step=0.05)  \n",
    "    ))\n",
    "    model.add(Dense(\n",
    "        units=hp.Int('dense_units', min_value=32, max_value=60, step=1), \n",
    "        activation='relu'\n",
    "    ))\n",
    "    model.add(Dense(1))\n"
   ]
  }
 ],
 "metadata": {
  "kernelspec": {
   "display_name": "Python 3 (ipykernel)",
   "language": "python",
   "name": "python3"
  },
  "language_info": {
   "codemirror_mode": {
    "name": "ipython",
    "version": 3
   },
   "file_extension": ".py",
   "mimetype": "text/x-python",
   "name": "python",
   "nbconvert_exporter": "python",
   "pygments_lexer": "ipython3",
   "version": "3.11.5"
  }
 },
 "nbformat": 4,
 "nbformat_minor": 5
}
